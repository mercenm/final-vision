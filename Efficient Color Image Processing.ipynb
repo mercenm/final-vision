{
  "cells": [
    {
      "cell_type": "code",
      "execution_count": null,
      "id": "82c44bd0-7f6c-4c3e-98b3-f12ab62717bc",
      "metadata": {
        "tags": [],
        "id": "82c44bd0-7f6c-4c3e-98b3-f12ab62717bc"
      },
      "outputs": [],
      "source": [
        "import cv2\n",
        "import numpy as np\n",
        "import scipy\n",
        "from PIL import Image\n",
        "from numpy import convolve\n",
        "from numpy.fft import fft2, ifft2, fftshift, ifftshift\n",
        "from numpy.linalg import norm\n",
        "from scipy.sparse import csgraph\n",
        "from scipy.optimize import minimize\n",
        "from scipy.signal import convolve2d\n",
        "from scipy.ndimage import median_filter\n",
        "import matplotlib.pyplot as plt\n",
        "from scipy.optimize import least_squares"
      ]
    },
    {
      "cell_type": "markdown",
      "id": "0779f3a4-0ad8-45e0-99cc-4bc7f49e8a9c",
      "metadata": {
        "id": "0779f3a4-0ad8-45e0-99cc-4bc7f49e8a9c"
      },
      "source": [
        "# ***Grayscale images***"
      ]
    },
    {
      "cell_type": "code",
      "execution_count": null,
      "id": "91312a28-58be-413a-a156-5dfe0aeda077",
      "metadata": {
        "tags": [],
        "id": "91312a28-58be-413a-a156-5dfe0aeda077"
      },
      "outputs": [],
      "source": [
        "def normalize(image, min_value=0, max_value=1):\n",
        "    # Obtener los valores mínimo y máximo de la imagen\n",
        "    image_min = np.min(image)\n",
        "    image_max = np.max(image)\n",
        "\n",
        "    # Normalizar la imagen en el rango especificado\n",
        "    normalized_image = (image - image_min) * (max_value - min_value) / (image_max - image_min) + min_value\n",
        "\n",
        "    return normalized_image"
      ]
    },
    {
      "cell_type": "code",
      "execution_count": null,
      "id": "2958f448-575e-4037-b431-53de63a617f0",
      "metadata": {
        "tags": [],
        "id": "2958f448-575e-4037-b431-53de63a617f0"
      },
      "outputs": [],
      "source": [
        "def calcular_gradiente1D(imagen):\n",
        "    \"\"\"\n",
        "    Calcula el gradiente de una imagen a color utilizando el método de las diferencias finitas.\n",
        "\n",
        "    Parámetros:\n",
        "        imagen (numpy.ndarray): La imagen de entrada en formato RGB. Debe ser una matriz de tamaño (alto, ancho, 3).\n",
        "\n",
        "    Retorna:\n",
        "        gradiente (numpy.ndarray): El gradiente de la imagen, con las derivadas parciales en cada canal de color.\n",
        "                                   Tiene el mismo tamaño que la imagen de entrada.\n",
        "    \"\"\"\n",
        "    alto, ancho = imagen.shape\n",
        "\n",
        "    # Inicializar matrices para las derivadas parciales en cada canal de color\n",
        "    dI_dx = np.zeros_like(imagen)\n",
        "    dI_dy = np.zeros_like(imagen)\n",
        "\n",
        "    # Calcular las derivadas parciales utilizando diferencias finitas\n",
        "    dI_dx[:, 1:ancho] = imagen[:, 1:ancho] - imagen[:, :ancho-1]  # Diferencia en dirección x\n",
        "    dI_dy[1:alto, :] = imagen[1:alto, :] - imagen[:alto-1, :]  # Diferencia en dirección y\n",
        "\n",
        "\n",
        "    # Calcular el gradiente total combinando los gradientes de cada canal\n",
        "    gradient = np.array([dI_dx, dI_dy])\n",
        "\n",
        "    return gradient"
      ]
    },
    {
      "cell_type": "code",
      "execution_count": null,
      "id": "4cef5639-07e0-406e-afff-5d25c87d6942",
      "metadata": {
        "tags": [],
        "id": "4cef5639-07e0-406e-afff-5d25c87d6942"
      },
      "outputs": [],
      "source": [
        "def update_u(f, q_k, lambda_k, alpha, K, K_ast, r):\n",
        "    n, m = f.shape\n",
        "    #, Dx, Dy = get_kernels(n,m)\n",
        "\n",
        "    mu_q0 = lambda_k[0] + r*q_k[0]\n",
        "    mu_q1 = lambda_k[1] + r*q_k[1]\n",
        "\n",
        "    L = fft2(np.array([[0, 1, 0],[1, -4, 1],[0, 1, 0]]),s = (n,m))\n",
        "    Dx = fft2(np.array([[-1, 0, 1], [-1, 0, 1], [-1, 0, 1]]),s = (n,m))\n",
        "    Dy = fft2(np.array( [[-1, -1, -1], [0, 0, 0], [1, 1, 1]]),s = (n,m))\n",
        "\n",
        "    num = alpha*fft2(K_ast,s = (n,m))*fft2(f) - Dx*mu_q0 - Dy*mu_q1\n",
        "    den = alpha*fft2(K_ast,s = (n,m))*fft2(K,s = (n,m)) - r*L\n",
        "\n",
        "    u = np.abs(ifft2(num / den))\n",
        "\n",
        "    return u"
      ]
    },
    {
      "cell_type": "code",
      "execution_count": null,
      "id": "459665e0-1bf2-4153-be88-a87fee0bd6be",
      "metadata": {
        "tags": [],
        "id": "459665e0-1bf2-4153-be88-a87fee0bd6be"
      },
      "outputs": [],
      "source": [
        "def update_q(u_k, lambda_k, r):\n",
        "    w      = np.array(np.gradient(u_k)) - lambda_k/r\n",
        "    w_norm = np.sqrt(w[0]**2 + w[1]**2)\n",
        "\n",
        "    # q      = np.zeros_like(w, dtype = np.complex64)\n",
        "\n",
        "    q = (1 - 1/(r*w_norm))*w\n",
        "    q[np.array([w_norm,w_norm]) < 1/r] = 0\n",
        "\n",
        "    #for i in range(u_k.shape[0]):\n",
        "    #    for j in range(u_k.shape[1]):\n",
        "    #        norma = norm(w[:,i,j])\n",
        "    #        if norma > 1/r:\n",
        "    #            q[:,i,j] = (1 - 1/(r*norma))*w[:,i,j]\n",
        "    #        else:\n",
        "    #            q[:,i,j] = np.zeros_like(w[:,i,j], dtype = np.complex64)\n",
        "\n",
        "    return q"
      ]
    },
    {
      "cell_type": "code",
      "execution_count": null,
      "id": "1c2e3d2b-d707-4f10-9367-2b98aa022772",
      "metadata": {
        "tags": [],
        "id": "1c2e3d2b-d707-4f10-9367-2b98aa022772"
      },
      "outputs": [],
      "source": [
        "def q_a(x, q_l, q_l1, du, mu_k, beta, r, a):\n",
        "    sum2 = np.zeros_like(x[0,:,:,0]).astype(np.complex128)\n",
        "    qq   = np.zeros_like(x[0,:,:,0]).astype(np.complex128)\n",
        "    pp   = np.zeros_like(x[0,:,:,0]).astype(np.complex128)\n",
        "    qpq  = np.zeros_like(x[0,:,:,0]).astype(np.complex128)\n",
        "    pqp  = np.zeros_like(x[0,:,:,0]).astype(np.complex128)\n",
        "    ppqq = np.zeros_like(x[0,:,:,0]).astype(np.complex128)\n",
        "\n",
        "    for i in range(3):\n",
        "        for j in range(3):\n",
        "            if j != i:\n",
        "                sum2 += (q_l1[0,:,:,i]*q_l1[1,:,:,j] + q_l1[0,:,:,j]*q_l1[1,:,:,i])**2\n",
        "                qq   += q_l[1,:,:,j]\n",
        "                pp   += q_l[0,:,:,j]\n",
        "                qpq  += q_l[1,:,:,j]*q_l[0,:,:,j]*q_l[1,:,:,a]\n",
        "                pqp  += q_l[0,:,:,j]*q_l[1,:,:,j]*q_l[0,:,:,a]\n",
        "\n",
        "        ppqq += q_l1[0,:,:,i]**2 + q_l1[1,:,:,i]**2\n",
        "\n",
        "    den = np.sqrt(1/beta**4 + 1/beta**2 * ppqq + sum2)\n",
        "\n",
        "    p_a = ((- r*(q_l[0,:,:,a] - du[0,:,:,a]) + mu_k[0,:,:,a])*den + 1/2 * qpq)/(2 * (1/beta**2 + 1/2 * qq))\n",
        "    q_a = ((- r*(q_l[1,:,:,a] - du[1,:,:,a]) + mu_k[1,:,:,a])*den + 1/2 * pqp)/(2 * (1/beta**2 + 1/2 * pp))\n",
        "\n",
        "    return p_a, q_a"
      ]
    },
    {
      "cell_type": "code",
      "execution_count": null,
      "id": "04634c53-f7f4-4ede-8ab1-45911bca0a9b",
      "metadata": {
        "tags": [],
        "id": "04634c53-f7f4-4ede-8ab1-45911bca0a9b"
      },
      "outputs": [],
      "source": [
        "def update_qnew(x_initial, du, mu_k, beta, r, num_iterations = 5, epsilon = 1e-9):\n",
        "    x    = x_initial\n",
        "    x_t  = x\n",
        "    x_tt = x\n",
        "\n",
        "    for i in range(num_iterations):\n",
        "        p0, q0 = q_a(x, x_t, x_tt, du, mu_k, beta, r, 0)\n",
        "        p1, q1 = q_a(x, x_t, x_tt, du, mu_k, beta, r, 1)\n",
        "        p2, q2 = q_a(x, x_t, x_tt, du, mu_k, beta, r, 2)\n",
        "\n",
        "        x_tt = x_t\n",
        "        x_t  = x\n",
        "        x[0] = np.dstack((p0, p1, p2))\n",
        "        x[1] = np.dstack((q0, q1, q2))\n",
        "    return x"
      ]
    },
    {
      "cell_type": "code",
      "execution_count": null,
      "id": "23881aa1-c179-41b8-89f2-69f2952c46eb",
      "metadata": {
        "tags": [],
        "id": "23881aa1-c179-41b8-89f2-69f2952c46eb"
      },
      "outputs": [],
      "source": [
        "def update_lambda(lambda_k, q_k, v_k, r):\n",
        "    return lambda_k + r*(q_k - calcular_gradiente1D(v_k))"
      ]
    },
    {
      "cell_type": "code",
      "execution_count": null,
      "id": "786cb880-76f9-411c-b942-5d827eb85cff",
      "metadata": {
        "tags": [],
        "id": "786cb880-76f9-411c-b942-5d827eb85cff"
      },
      "outputs": [],
      "source": [
        "def AL_ROF(f, K, K_ast, alpha, r, max_iteration = 20, gamma = 1.2, epsilon = 1e-12):\n",
        "    #f        = normalize(f)\n",
        "    u_k      = f\n",
        "    q_k      = calcular_gradiente1D(f)\n",
        "    lambda_k = np.zeros_like(q_k)\n",
        "\n",
        "    for k in range(max_iteration):\n",
        "        u_k2 = u_k\n",
        "        u_k  = update_u(f, q_k, lambda_k, alpha, K, K_ast, r)\n",
        "\n",
        "        if norm(u_k - u_k2)/norm(u_k2) < epsilon:\n",
        "            break\n",
        "\n",
        "        q_k = update_q(u_k, lambda_k, r)\n",
        "        #q_k = np.array(np.gradient(u_k))\n",
        "\n",
        "        lambda_k = update_lambda(lambda_k, q_k, u_k, r)\n",
        "        r = r*gamma\n",
        "\n",
        "    return u_k"
      ]
    },
    {
      "cell_type": "markdown",
      "id": "689617a6-af08-4e17-8b1c-052730578cc0",
      "metadata": {
        "tags": [],
        "id": "689617a6-af08-4e17-8b1c-052730578cc0"
      },
      "source": [
        "## Tests"
      ]
    },
    {
      "cell_type": "code",
      "execution_count": null,
      "id": "f1e29f7a-449e-44a3-a049-929b37aa0770",
      "metadata": {
        "id": "f1e29f7a-449e-44a3-a049-929b37aa0770"
      },
      "outputs": [],
      "source": [
        "img = cv2.imread(r\"C:\\Users\\merce\\Downloads\\mariposa.jpg\")\n",
        "img = cv2.cvtColor(img, cv2.COLOR_BGR2GRAY)"
      ]
    },
    {
      "cell_type": "code",
      "execution_count": null,
      "id": "5ab102c3-3aca-4675-aecc-7b4e1666afc4",
      "metadata": {
        "tags": [],
        "id": "5ab102c3-3aca-4675-aecc-7b4e1666afc4",
        "outputId": "87bcd06b-de15-4a4c-f977-32bfed0419cf"
      },
      "outputs": [
        {
          "data": {
            "text/plain": [
              "True"
            ]
          },
          "execution_count": 684,
          "metadata": {},
          "output_type": "execute_result"
        }
      ],
      "source": [
        "cv2.imwrite(r'C:\\Users\\merce\\Downloads\\mariposa_gris.jpg', img)"
      ]
    },
    {
      "cell_type": "code",
      "execution_count": null,
      "id": "b9d9efda-2200-4090-bdcf-fef5d5aa6f53",
      "metadata": {
        "tags": [],
        "id": "b9d9efda-2200-4090-bdcf-fef5d5aa6f53"
      },
      "outputs": [],
      "source": [
        "cv2.imshow('Imagen', img)\n",
        "cv2.waitKey(0)\n",
        "cv2.destroyAllWindows()"
      ]
    },
    {
      "cell_type": "code",
      "execution_count": null,
      "id": "7d8abbc0-7c29-4624-a474-0aacb5406e23",
      "metadata": {
        "tags": [],
        "id": "7d8abbc0-7c29-4624-a474-0aacb5406e23"
      },
      "outputs": [],
      "source": [
        "f_denoise = img + np.random.normal(1, 25, img.shape)\n",
        "\n",
        "cv2.imshow('Imagen', normalize(f_denoise))\n",
        "cv2.waitKey(0)\n",
        "cv2.destroyAllWindows()"
      ]
    },
    {
      "cell_type": "code",
      "execution_count": null,
      "id": "aaab9c5b-d125-453d-be4a-56bba4fafc25",
      "metadata": {
        "tags": [],
        "id": "aaab9c5b-d125-453d-be4a-56bba4fafc25",
        "outputId": "c89bfab7-75f1-4b15-a63f-ca3124c2b460"
      },
      "outputs": [
        {
          "data": {
            "text/plain": [
              "True"
            ]
          },
          "execution_count": 686,
          "metadata": {},
          "output_type": "execute_result"
        }
      ],
      "source": [
        "cv2.imwrite(r'C:\\Users\\merce\\Downloads\\mariposa_gris_ruido.jpg', f_denoise)"
      ]
    },
    {
      "cell_type": "code",
      "execution_count": null,
      "id": "e5fcce9e-ffb1-4fc1-92d8-65b40ea2baca",
      "metadata": {
        "tags": [],
        "id": "e5fcce9e-ffb1-4fc1-92d8-65b40ea2baca"
      },
      "outputs": [],
      "source": [
        "I = np.array([[0,0,0], [0,1,0], [0,0,0]])"
      ]
    },
    {
      "cell_type": "code",
      "execution_count": null,
      "id": "50c175b5-93b8-4e19-a438-f5f82ee7ad37",
      "metadata": {
        "id": "50c175b5-93b8-4e19-a438-f5f82ee7ad37",
        "outputId": "b3555a5c-e368-4920-f17d-a28450b15f58"
      },
      "outputs": [
        {
          "name": "stdout",
          "output_type": "stream",
          "text": [
            "El código tardó 13.57441340002697 segundos en ejecutarse.\n"
          ]
        }
      ],
      "source": [
        "import time\n",
        "\n",
        "# Inicio de la medición del tiempo\n",
        "inicio = time.perf_counter()\n",
        "\n",
        "# Código que deseas medir\n",
        "u = AL_ROF(f_denoise, I, I, 1, .05, 20, 1)\n",
        "\n",
        "# Fin de la medición del tiempo\n",
        "fin = time.perf_counter()\n",
        "\n",
        "# Cálculo de la duración\n",
        "duracion = fin - inicio\n",
        "\n",
        "print(f\"El código tardó {duracion} segundos en ejecutarse.\")"
      ]
    },
    {
      "cell_type": "code",
      "execution_count": null,
      "id": "1f01f559-46f9-4e70-93c1-b7c1bd117381",
      "metadata": {
        "tags": [],
        "id": "1f01f559-46f9-4e70-93c1-b7c1bd117381",
        "outputId": "664871b9-95f1-47c2-f96a-62fcc380960d"
      },
      "outputs": [
        {
          "name": "stdout",
          "output_type": "stream",
          "text": [
            "The PSNR value is: 16.03\n"
          ]
        }
      ],
      "source": [
        "from skimage.metrics import peak_signal_noise_ratio\n",
        "psnr_value = peak_signal_noise_ratio(normalize(img), normalize(u))\n",
        "\n",
        "print(f\"The PSNR value is: {psnr_value:.2f}\")"
      ]
    },
    {
      "cell_type": "code",
      "execution_count": null,
      "id": "05874d4c-9fac-4aed-b312-c15b0c097819",
      "metadata": {
        "tags": [],
        "id": "05874d4c-9fac-4aed-b312-c15b0c097819",
        "outputId": "b09fe563-eca2-4a02-97c6-960cf975b78c"
      },
      "outputs": [
        {
          "data": {
            "text/plain": [
              "True"
            ]
          },
          "execution_count": 699,
          "metadata": {},
          "output_type": "execute_result"
        }
      ],
      "source": [
        "cv2.imwrite(r'C:\\Users\\merce\\Downloads\\mariposa_05_20.jpg', u)"
      ]
    },
    {
      "cell_type": "code",
      "execution_count": null,
      "id": "6692e20d-c8d2-4951-be3d-c94c4302fed1",
      "metadata": {
        "tags": [],
        "id": "6692e20d-c8d2-4951-be3d-c94c4302fed1"
      },
      "outputs": [],
      "source": [
        "cv2.imshow('Resultado', normalize(u))\n",
        "cv2.imshow('Imagen con ruido',  normalize(f_denoise))\n",
        "cv2.imshow('Imagen original',  img)\n",
        "cv2.waitKey(0)\n",
        "cv2.destroyAllWindows()"
      ]
    },
    {
      "cell_type": "markdown",
      "id": "53989699-becc-4cee-b8f1-a9984353addc",
      "metadata": {
        "tags": [],
        "id": "53989699-becc-4cee-b8f1-a9984353addc"
      },
      "source": [
        "# ***Three channel images***"
      ]
    },
    {
      "cell_type": "code",
      "execution_count": null,
      "id": "b145a41e-1c80-4b0a-a4dc-d076b331e480",
      "metadata": {
        "tags": [],
        "id": "b145a41e-1c80-4b0a-a4dc-d076b331e480"
      },
      "outputs": [],
      "source": [
        "def update_u2(f, q_k, lambda_k, alpha, K, K_ast, r):\n",
        "    n, m = f.shape\n",
        "    #, Dx, Dy = get_kernels(n,m)\n",
        "\n",
        "    mu_q0 = lambda_k[0] + r*q_k[0]\n",
        "    mu_q1 = lambda_k[1] + r*q_k[1]\n",
        "\n",
        "    L = fft2(np.array([[0, 1, 0],[1, -4, 1],[0, 1, 0]]),s = (n,m))\n",
        "    Dx = fft2(np.array([[-1, 0, 1], [-1, 0, 1], [-1, 0, 1]]),s = (n,m))\n",
        "    Dy = fft2(np.array( [[-1, -1, -1], [0, 0, 0], [1, 1, 1]]),s = (n,m))\n",
        "\n",
        "    print(L.shape, mu_q0.shape)\n",
        "\n",
        "    num = alpha*fft2(K_ast,s = (n,m))*fft2(f) - Dx*mu_q0 - Dy*mu_q1\n",
        "    den = alpha*fft2(K_ast,s = (n,m))*fft2(K,s = (n,m)) - r*L\n",
        "\n",
        "    u = np.abs(ifft2(num / den))\n",
        "\n",
        "    return u"
      ]
    },
    {
      "cell_type": "code",
      "execution_count": null,
      "id": "b014b584-db15-4a4f-ac2c-6e37666c9d68",
      "metadata": {
        "tags": [],
        "id": "b014b584-db15-4a4f-ac2c-6e37666c9d68"
      },
      "outputs": [],
      "source": [
        "def calcular_gradiente(imagen):\n",
        "    \"\"\"\n",
        "    Calcula el gradiente de una imagen a color utilizando el método de las diferencias finitas.\n",
        "\n",
        "    Parámetros:\n",
        "        imagen (numpy.ndarray): La imagen de entrada en formato RGB. Debe ser una matriz de tamaño (alto, ancho, 3).\n",
        "\n",
        "    Retorna:\n",
        "        gradiente (numpy.ndarray): El gradiente de la imagen, con las derivadas parciales en cada canal de color.\n",
        "                                   Tiene el mismo tamaño que la imagen de entrada.\n",
        "    \"\"\"\n",
        "    alto, ancho, _ = imagen.shape\n",
        "\n",
        "    # Inicializar matrices para las derivadas parciales en cada canal de color\n",
        "    dI_dx = np.zeros_like(imagen)\n",
        "    dI_dy = np.zeros_like(imagen)\n",
        "\n",
        "    # Calcular las derivadas parciales utilizando diferencias finitas\n",
        "    for c in range(3):  # Iterar sobre los canales de color (R, G, B)\n",
        "        dI_dx[:, 1:ancho, c] = imagen[:, 1:ancho, c] - imagen[:, :ancho-1, c]  # Diferencia en dirección x\n",
        "        dI_dy[1:alto, :, c] = imagen[1:alto, :, c] - imagen[:alto-1, :, c]  # Diferencia en dirección y\n",
        "\n",
        "\n",
        "    # Calcular el gradiente total combinando los gradientes de cada canal\n",
        "    gradient = np.array([dI_dx, dI_dy])\n",
        "\n",
        "    return gradient"
      ]
    },
    {
      "cell_type": "code",
      "execution_count": null,
      "id": "18e14fd3-10fc-4883-b799-2538caa5b8e2",
      "metadata": {
        "id": "18e14fd3-10fc-4883-b799-2538caa5b8e2"
      },
      "outputs": [],
      "source": [
        "def AL_ROF_COLOR(f, K, K_ast, alpha, r, max_iteration = 20, gamma = 1.2, epsilon = 1e-30):\n",
        "    g        = f.copy()\n",
        "    u_k      = g\n",
        "    q_k      = calcular_gradiente(f)\n",
        "    lambda_k = np.zeros_like(q_k)\n",
        "\n",
        "    print(q_k.shape)\n",
        "    for k in range(max_iteration):\n",
        "        u_k2 = u_k\n",
        "\n",
        "        for i in range(3):\n",
        "            u_k[:,:,i] = update_u2(g[:,:,i], q_k[:,:,:,i], lambda_k[:,:,:,i], alpha, K, K_ast, r)\n",
        "\n",
        "        if norm(u_k - u_k2)/norm(u_k2) < epsilon:\n",
        "            break\n",
        "\n",
        "        for i in range(3):\n",
        "            q_k[:,:,:,i] = update_q(u_k[:,:,i], lambda_k[:,:,:,i], r)\n",
        "            #q_k[:,:,:,i] = np.array(np.gradient(u_k))\n",
        "\n",
        "        lambda_k = lambda_k + r*(q_k - calcular_gradiente(u_k))\n",
        "        r = r*gamma\n",
        "\n",
        "    return u_k"
      ]
    },
    {
      "cell_type": "markdown",
      "id": "fbb5a1c2-7f14-4e8d-8c97-effcf8c4a7b3",
      "metadata": {
        "id": "fbb5a1c2-7f14-4e8d-8c97-effcf8c4a7b3"
      },
      "source": [
        "## Tests"
      ]
    },
    {
      "cell_type": "code",
      "execution_count": null,
      "id": "315bf028-6927-4cd1-b513-9f32cc4dece5",
      "metadata": {
        "tags": [],
        "id": "315bf028-6927-4cd1-b513-9f32cc4dece5"
      },
      "outputs": [],
      "source": [
        "img = cv2.imread(r\"C:\\Users\\merce\\Downloads\\mariposa.jpg\")\n",
        "#img = cv2.cvtColor(img, cv2.COLOR_BGR2GRAY)"
      ]
    },
    {
      "cell_type": "code",
      "execution_count": null,
      "id": "299e2700-271a-46e4-a869-e68eb1274953",
      "metadata": {
        "tags": [],
        "id": "299e2700-271a-46e4-a869-e68eb1274953"
      },
      "outputs": [],
      "source": [
        "cv2.imshow('Imagen', img)\n",
        "cv2.waitKey(0)\n",
        "cv2.destroyAllWindows()"
      ]
    },
    {
      "cell_type": "code",
      "execution_count": null,
      "id": "d98b29a2-b31f-4bbb-9249-80fad70f9872",
      "metadata": {
        "tags": [],
        "id": "d98b29a2-b31f-4bbb-9249-80fad70f9872"
      },
      "outputs": [],
      "source": [
        "f_denoise = img + np.random.normal(1, 25, img.shape)\n",
        "\n",
        "cv2.imshow('Imagen', normalize(f_denoise))\n",
        "cv2.waitKey(0)\n",
        "cv2.destroyAllWindows()"
      ]
    },
    {
      "cell_type": "code",
      "execution_count": null,
      "id": "78689dbb-cebd-4a7e-9409-10374ed1e3a4",
      "metadata": {
        "tags": [],
        "id": "78689dbb-cebd-4a7e-9409-10374ed1e3a4",
        "outputId": "7ceb31d7-e2da-4a0b-f87f-d6748ba535b9"
      },
      "outputs": [
        {
          "data": {
            "text/plain": [
              "True"
            ]
          },
          "execution_count": 780,
          "metadata": {},
          "output_type": "execute_result"
        }
      ],
      "source": [
        "cv2.imwrite(r'C:\\Users\\merce\\Downloads\\astro_denoise.jpg', f_denoise)"
      ]
    },
    {
      "cell_type": "code",
      "execution_count": null,
      "id": "f1836426-ceb0-4a61-95d8-290c3f866ae0",
      "metadata": {
        "tags": [],
        "id": "f1836426-ceb0-4a61-95d8-290c3f866ae0",
        "outputId": "14ab9090-694b-406b-ab7e-d3aa05f158cc"
      },
      "outputs": [
        {
          "name": "stdout",
          "output_type": "stream",
          "text": [
            "(2, 802, 1200, 3)\n",
            "(802, 1200) (802, 1200)\n",
            "(802, 1200) (802, 1200)\n",
            "(802, 1200) (802, 1200)\n",
            "El código tardó 2.7292250000173226 segundos en ejecutarse.\n"
          ]
        }
      ],
      "source": [
        "# Inicio de la medición del tiempo\n",
        "inicio = time.perf_counter()\n",
        "\n",
        "# Código que deseas medir\n",
        "u = AL_ROF_COLOR(f_denoise, I, I, .05, .05, 10, 1)\n",
        "\n",
        "# Fin de la medición del tiempo\n",
        "fin = time.perf_counter()\n",
        "\n",
        "# Cálculo de la duración\n",
        "duracion = fin - inicio\n",
        "\n",
        "print(f\"El código tardó {duracion} segundos en ejecutarse.\")"
      ]
    },
    {
      "cell_type": "code",
      "execution_count": null,
      "id": "f507bc10-b5c1-4261-8bd6-c594c3ce38fe",
      "metadata": {
        "id": "f507bc10-b5c1-4261-8bd6-c594c3ce38fe"
      },
      "outputs": [],
      "source": [
        "cv2.imshow('Resultado', normalize(u))\n",
        "cv2.imshow('Imagen original',  img)\n",
        "cv2.waitKey(0)\n",
        "cv2.destroyAllWindows()"
      ]
    },
    {
      "cell_type": "code",
      "execution_count": null,
      "id": "d20517cf-bdc2-4fa7-9d48-a47373a60d64",
      "metadata": {
        "tags": [],
        "id": "d20517cf-bdc2-4fa7-9d48-a47373a60d64",
        "outputId": "7f848fd6-9f9c-485e-bfe7-57915fa192af"
      },
      "outputs": [
        {
          "name": "stdout",
          "output_type": "stream",
          "text": [
            "The PSNR value is: 23.36\n"
          ]
        }
      ],
      "source": [
        "psnr_value = peak_signal_noise_ratio(normalize(img), normalize(u))\n",
        "\n",
        "print(f\"The PSNR value is: {psnr_value:.2f}\")"
      ]
    },
    {
      "cell_type": "code",
      "execution_count": null,
      "id": "e33b4ac5-97b4-4a4d-9928-48cee7cee7ce",
      "metadata": {
        "tags": [],
        "id": "e33b4ac5-97b4-4a4d-9928-48cee7cee7ce",
        "outputId": "ed4dacaa-5775-4e9d-8613-92e10d48a4cf"
      },
      "outputs": [
        {
          "data": {
            "text/plain": [
              "True"
            ]
          },
          "execution_count": 794,
          "metadata": {},
          "output_type": "execute_result"
        }
      ],
      "source": [
        "cv2.imwrite(r'C:\\Users\\merce\\Downloads\\astro_05.jpg', u)"
      ]
    },
    {
      "cell_type": "code",
      "execution_count": null,
      "id": "b99c6004-7589-4415-a2bf-a65024e86c9b",
      "metadata": {
        "tags": [],
        "id": "b99c6004-7589-4415-a2bf-a65024e86c9b"
      },
      "outputs": [],
      "source": [
        "f_deblur = cv2.GaussianBlur(img, (15, 15), 0)"
      ]
    },
    {
      "cell_type": "code",
      "execution_count": null,
      "id": "55d7f8f0-4357-429f-9541-272f20703f4a",
      "metadata": {
        "tags": [],
        "id": "55d7f8f0-4357-429f-9541-272f20703f4a",
        "outputId": "f41279a0-43eb-4ff1-c229-469167c9c661"
      },
      "outputs": [
        {
          "data": {
            "text/plain": [
              "True"
            ]
          },
          "execution_count": 849,
          "metadata": {},
          "output_type": "execute_result"
        }
      ],
      "source": [
        "cv2.imwrite(r'C:\\Users\\merce\\Downloads\\blured_mariposa.jpg', f_deblur)"
      ]
    },
    {
      "cell_type": "code",
      "execution_count": null,
      "id": "4591290a-eb36-4bc3-9257-bd2fac54cff8",
      "metadata": {
        "tags": [],
        "id": "4591290a-eb36-4bc3-9257-bd2fac54cff8"
      },
      "outputs": [],
      "source": [
        "cv2.imshow('Imagen', normalize(f_deblur))\n",
        "cv2.waitKey(0)\n",
        "cv2.destroyAllWindows()"
      ]
    },
    {
      "cell_type": "code",
      "execution_count": null,
      "id": "89f800bd-e922-4537-ac15-ca76c085d01a",
      "metadata": {
        "tags": [],
        "id": "89f800bd-e922-4537-ac15-ca76c085d01a"
      },
      "outputs": [],
      "source": [
        "vec = np.array([[1, 4, 6, 4, 1]])\n",
        "K = (1/256)*vec.T@vec\n",
        "K_ast = K.T #np.conjugate(K.T)"
      ]
    },
    {
      "cell_type": "code",
      "execution_count": null,
      "id": "980d12e2-1af8-481e-b0d3-3f47bd386fbf",
      "metadata": {
        "tags": [],
        "id": "980d12e2-1af8-481e-b0d3-3f47bd386fbf",
        "outputId": "f36cbfa8-d913-48fc-bd9a-5fa13d32a816"
      },
      "outputs": [
        {
          "name": "stdout",
          "output_type": "stream",
          "text": [
            "(2, 700, 960, 3)\n",
            "(700, 960) (700, 960)\n",
            "(700, 960) (700, 960)\n",
            "(700, 960) (700, 960)\n",
            "El código tardó 1.2147386000142433 segundos en ejecutarse.\n"
          ]
        }
      ],
      "source": [
        "# Inicio de la medición del tiempo\n",
        "inicio = time.perf_counter()\n",
        "\n",
        "# Código que deseas medir\n",
        "u = AL_ROF_COLOR(normalize(f_deblur), K, K_ast, 8, 10, 4, 1.1)\n",
        "\n",
        "# Fin de la medición del tiempo\n",
        "fin = time.perf_counter()\n",
        "\n",
        "# Cálculo de la duración\n",
        "duracion = fin - inicio\n",
        "\n",
        "print(f\"El código tardó {duracion} segundos en ejecutarse.\")"
      ]
    },
    {
      "cell_type": "code",
      "execution_count": null,
      "id": "63b2902a-be1c-4e5d-9a69-eca49ccf0718",
      "metadata": {
        "tags": [],
        "id": "63b2902a-be1c-4e5d-9a69-eca49ccf0718"
      },
      "outputs": [],
      "source": [
        "cv2.imshow('Resultado', normalize(u))\n",
        "cv2.imshow('Imagen original',  img)\n",
        "cv2.waitKey(0)\n",
        "cv2.destroyAllWindows()"
      ]
    },
    {
      "cell_type": "code",
      "execution_count": null,
      "id": "04c52b44-6061-48ae-a7fe-3920c5870a1e",
      "metadata": {
        "tags": [],
        "id": "04c52b44-6061-48ae-a7fe-3920c5870a1e"
      },
      "outputs": [],
      "source": [
        "from PIL import Image\n",
        "\n",
        "pil_image = Image.fromarray(u.astype(np.uint8))\n",
        "\n",
        "# Save the image to a file\n",
        "pil_image.save(r'C:\\Users\\merce\\Downloads\\generated_image.jpg')"
      ]
    },
    {
      "cell_type": "code",
      "execution_count": null,
      "id": "f0291014-72cc-4f56-b337-d8b49b125ffd",
      "metadata": {
        "tags": [],
        "id": "f0291014-72cc-4f56-b337-d8b49b125ffd",
        "outputId": "135664ec-afc2-4495-8626-d190b685a7f5"
      },
      "outputs": [
        {
          "data": {
            "text/plain": [
              "True"
            ]
          },
          "execution_count": 906,
          "metadata": {},
          "output_type": "execute_result"
        }
      ],
      "source": [
        "cv2.imwrite(r'C:\\Users\\merce\\Downloads\\deblured_mariposa.jpg', normalize(u).astype(np.uint8))"
      ]
    }
  ],
  "metadata": {
    "kernelspec": {
      "display_name": "Python 3 (ipykernel)",
      "language": "python",
      "name": "python3"
    },
    "language_info": {
      "codemirror_mode": {
        "name": "ipython",
        "version": 3
      },
      "file_extension": ".py",
      "mimetype": "text/x-python",
      "name": "python",
      "nbconvert_exporter": "python",
      "pygments_lexer": "ipython3",
      "version": "3.7.9"
    },
    "colab": {
      "provenance": []
    }
  },
  "nbformat": 4,
  "nbformat_minor": 5
}